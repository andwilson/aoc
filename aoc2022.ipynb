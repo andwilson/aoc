{
 "cells": [
  {
   "cell_type": "markdown",
   "metadata": {},
   "source": [
    "## Setup"
   ]
  },
  {
   "cell_type": "code",
   "execution_count": null,
   "metadata": {},
   "outputs": [],
   "source": [
    "%pip install aocd"
   ]
  },
  {
   "cell_type": "code",
   "execution_count": 2,
   "metadata": {},
   "outputs": [],
   "source": [
    "import os\n",
    "os.environ[\"AOC_SESSION\"] = \"53616c7465645f5fd6bf6b05cb1c8b4a2f94610d9b847bdc64113d20ffa9777c2255ae94910cc1cbbea70fb735998fadf7b15fc42871b5d16edb94a0efafc758\""
   ]
  },
  {
   "cell_type": "code",
   "execution_count": 3,
   "metadata": {},
   "outputs": [],
   "source": [
    "from aocd.models import Puzzle"
   ]
  },
  {
   "cell_type": "markdown",
   "metadata": {},
   "source": [
    "## Dec 1"
   ]
  },
  {
   "cell_type": "code",
   "execution_count": 16,
   "metadata": {},
   "outputs": [
    {
     "data": {
      "text/plain": [
       "'1000\\n2000\\n3000\\n\\n4000\\n\\n5000\\n6000\\n\\n7000\\n8000\\n9000\\n\\n10000'"
      ]
     },
     "execution_count": 16,
     "metadata": {},
     "output_type": "execute_result"
    }
   ],
   "source": [
    "puzzle = Puzzle(year=2022, day=1)\n",
    "input_data = puzzle.input_data\n",
    "example_data = puzzle.example_data\n",
    "example_data"
   ]
  },
  {
   "cell_type": "code",
   "execution_count": 17,
   "metadata": {},
   "outputs": [
    {
     "data": {
      "text/plain": [
       "[24000, 11000, 10000, 6000, 4000]"
      ]
     },
     "execution_count": 17,
     "metadata": {},
     "output_type": "execute_result"
    }
   ],
   "source": [
    "def process(d):\n",
    "    d = d.split(\"\\n\\n\")\n",
    "    d = [e.split(\"\\n\") for e in d]\n",
    "    d = [[int(i) for i in x] for x in d]\n",
    "    d = sorted([sum(i) for i in d], reverse=True)\n",
    "    return d\n",
    "\n",
    "process(example_data)"
   ]
  },
  {
   "cell_type": "code",
   "execution_count": 18,
   "metadata": {},
   "outputs": [
    {
     "name": "stdout",
     "output_type": "stream",
     "text": [
      "68442\n"
     ]
    }
   ],
   "source": [
    "answer_a = max(process(input_data))\n",
    "print(answer_a)\n",
    "puzzle.answer_a = answer_a"
   ]
  },
  {
   "cell_type": "code",
   "execution_count": 19,
   "metadata": {},
   "outputs": [
    {
     "name": "stdout",
     "output_type": "stream",
     "text": [
      "204837\n"
     ]
    }
   ],
   "source": [
    "answer_b = sum(process(input_data)[:3])\n",
    "print(answer_b)\n",
    "puzzle.answer_b = answer_b"
   ]
  },
  {
   "cell_type": "markdown",
   "metadata": {},
   "source": [
    "## Day 2"
   ]
  },
  {
   "cell_type": "code",
   "execution_count": 58,
   "metadata": {},
   "outputs": [
    {
     "data": {
      "text/plain": [
       "'A Y\\nB X\\nC Z'"
      ]
     },
     "execution_count": 58,
     "metadata": {},
     "output_type": "execute_result"
    }
   ],
   "source": [
    "puzzle = Puzzle(year=2022, day=2)\n",
    "input_data = puzzle.input_data\n",
    "example_data = puzzle.example_data\n",
    "example_data"
   ]
  },
  {
   "cell_type": "code",
   "execution_count": 97,
   "metadata": {},
   "outputs": [],
   "source": [
    "outcomes = {\n",
    "\"lose\": [\n",
    "    [\"B\", \"X\"],\n",
    "    [\"C\", \"Y\"],\n",
    "    [\"A\", \"Z\"]\n",
    "    ],\n",
    "\"draw\": [\n",
    "    [\"A\", \"X\"],\n",
    "    [\"B\", \"Y\"],\n",
    "    [\"C\", \"Z\"]\n",
    "    ],\n",
    "\"win\": [\n",
    "    [\"A\", \"Y\"],\n",
    "    [\"B\", \"Z\"],\n",
    "    [\"C\", \"X\"]\n",
    "    ]\n",
    "}\n",
    "\n",
    "points = {\n",
    "    \"X\": 1,\n",
    "    \"Y\": 2,\n",
    "    \"Z\": 3\n",
    "}\n"
   ]
  },
  {
   "cell_type": "code",
   "execution_count": 98,
   "metadata": {},
   "outputs": [
    {
     "data": {
      "text/plain": [
       "[8, 1, 6]"
      ]
     },
     "execution_count": 98,
     "metadata": {},
     "output_type": "execute_result"
    }
   ],
   "source": [
    "def process_a(d):\n",
    "    d = d.split(\"\\n\")\n",
    "    d = [list(x.replace(\" \", \"\")) for x in d]\n",
    "    \n",
    "    scores = []\n",
    "    for e in d:\n",
    "        \n",
    "        if e in outcomes[\"win\"]:\n",
    "            scores.append(points[e[1]] + 6)\n",
    "        elif e in outcomes[\"lose\"]:\n",
    "            scores.append(points[e[1]] + 0)\n",
    "        elif e in outcomes[\"draw\"]:\n",
    "            scores.append(points[e[1]] + 3)\n",
    "\n",
    "    return scores\n",
    "\n",
    "process_a(example_data)"
   ]
  },
  {
   "cell_type": "code",
   "execution_count": 99,
   "metadata": {},
   "outputs": [
    {
     "name": "stdout",
     "output_type": "stream",
     "text": [
      "12535\n"
     ]
    }
   ],
   "source": [
    "answer_a = sum(process_a(input_data))\n",
    "print(answer_a)\n",
    "puzzle.answer_a = answer_a"
   ]
  },
  {
   "cell_type": "code",
   "execution_count": 104,
   "metadata": {},
   "outputs": [],
   "source": [
    "responses = {\n",
    "\"rock\": [\n",
    "    [\"A\", \"Y\"],\n",
    "    [\"B\", \"X\"],\n",
    "    [\"C\", \"Z\"]\n",
    "    ],\n",
    "\"paper\": [\n",
    "    [\"A\", \"Z\"],\n",
    "    [\"B\", \"Y\"],\n",
    "    [\"C\", \"X\"]\n",
    "    ],\n",
    "\"scissors\": [\n",
    "    [\"A\", \"X\"],\n",
    "    [\"B\", \"Z\"],\n",
    "    [\"C\", \"Y\"]\n",
    "    ]\n",
    "}\n",
    "\n",
    "points = {\n",
    "    \"X\": 0, # lose\n",
    "    \"Y\": 3, # win\n",
    "    \"Z\": 6 # draw\n",
    "}"
   ]
  },
  {
   "cell_type": "code",
   "execution_count": 106,
   "metadata": {},
   "outputs": [
    {
     "data": {
      "text/plain": [
       "[4, 1, 7]"
      ]
     },
     "execution_count": 106,
     "metadata": {},
     "output_type": "execute_result"
    }
   ],
   "source": [
    "def process_b(d):\n",
    "    d = d.split(\"\\n\")\n",
    "    d = [list(x.replace(\" \", \"\")) for x in d]\n",
    "    \n",
    "    scores = []\n",
    "    for e in d:\n",
    "        \n",
    "        if e in responses[\"rock\"]:\n",
    "            scores.append(1 + points[e[1]])\n",
    "        elif e in responses[\"paper\"]:\n",
    "            scores.append(2 + points[e[1]])\n",
    "        if e in responses[\"scissors\"]:\n",
    "            scores.append(3 + points[e[1]])\n",
    "\n",
    "    return scores\n",
    "\n",
    "process_b(example_data)"
   ]
  },
  {
   "cell_type": "code",
   "execution_count": 108,
   "metadata": {},
   "outputs": [
    {
     "name": "stdout",
     "output_type": "stream",
     "text": [
      "15457\n",
      "That's the right answer!  You are one gold star closer to collecting enough star fruit.You have completed Day 2! You can [Shareon\n",
      "  Twitter\n",
      "Mastodon] this victory or [Return to Your Advent Calendar].\n"
     ]
    }
   ],
   "source": [
    "answer_b = sum(process_b(input_data))\n",
    "print(answer_b)\n",
    "puzzle.answer_b = answer_b"
   ]
  },
  {
   "cell_type": "markdown",
   "metadata": {},
   "source": [
    "## Day 3"
   ]
  },
  {
   "cell_type": "code",
   "execution_count": null,
   "metadata": {},
   "outputs": [],
   "source": [
    "puzzle = Puzzle(year=2022, day=3)\n",
    "input_data = puzzle.input_data\n",
    "example_data = puzzle.example_data\n",
    "example_data"
   ]
  }
 ],
 "metadata": {
  "kernelspec": {
   "display_name": "Python 3.8.0 ('aoc')",
   "language": "python",
   "name": "python3"
  },
  "language_info": {
   "codemirror_mode": {
    "name": "ipython",
    "version": 3
   },
   "file_extension": ".py",
   "mimetype": "text/x-python",
   "name": "python",
   "nbconvert_exporter": "python",
   "pygments_lexer": "ipython3",
   "version": "3.8.0"
  },
  "orig_nbformat": 4,
  "vscode": {
   "interpreter": {
    "hash": "67535745396c5cbdfe847cbf1874b54a7dc54d84abafdefd663b716e1769928d"
   }
  }
 },
 "nbformat": 4,
 "nbformat_minor": 2
}

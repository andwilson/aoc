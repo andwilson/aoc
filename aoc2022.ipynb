{
 "cells": [
  {
   "cell_type": "markdown",
   "metadata": {},
   "source": [
    "## Setup"
   ]
  },
  {
   "cell_type": "code",
   "execution_count": 1,
   "metadata": {},
   "outputs": [
    {
     "name": "stdout",
     "output_type": "stream",
     "text": [
      "Requirement already satisfied: aocd in /home/andrew/.asdf/installs/python/miniconda3-4.7.12/envs/aoc/lib/python3.8/site-packages (0.1)\n",
      "Requirement already satisfied: advent-of-code-data in /home/andrew/.asdf/installs/python/miniconda3-4.7.12/envs/aoc/lib/python3.8/site-packages (from aocd) (1.3.0)\n",
      "Requirement already satisfied: requests in /home/andrew/.asdf/installs/python/miniconda3-4.7.12/envs/aoc/lib/python3.8/site-packages (from advent-of-code-data->aocd) (2.28.1)\n",
      "Requirement already satisfied: beautifulsoup4 in /home/andrew/.asdf/installs/python/miniconda3-4.7.12/envs/aoc/lib/python3.8/site-packages (from advent-of-code-data->aocd) (4.11.1)\n",
      "Requirement already satisfied: python-dateutil in /home/andrew/.asdf/installs/python/miniconda3-4.7.12/envs/aoc/lib/python3.8/site-packages (from advent-of-code-data->aocd) (2.8.2)\n",
      "Requirement already satisfied: termcolor in /home/andrew/.asdf/installs/python/miniconda3-4.7.12/envs/aoc/lib/python3.8/site-packages (from advent-of-code-data->aocd) (2.1.1)\n",
      "Requirement already satisfied: pebble in /home/andrew/.asdf/installs/python/miniconda3-4.7.12/envs/aoc/lib/python3.8/site-packages (from advent-of-code-data->aocd) (5.0.3)\n",
      "Requirement already satisfied: tzlocal in /home/andrew/.asdf/installs/python/miniconda3-4.7.12/envs/aoc/lib/python3.8/site-packages (from advent-of-code-data->aocd) (4.2)\n",
      "Requirement already satisfied: soupsieve>1.2 in /home/andrew/.asdf/installs/python/miniconda3-4.7.12/envs/aoc/lib/python3.8/site-packages (from beautifulsoup4->advent-of-code-data->aocd) (2.3.2.post1)\n",
      "Requirement already satisfied: six>=1.5 in /home/andrew/.asdf/installs/python/miniconda3-4.7.12/envs/aoc/lib/python3.8/site-packages (from python-dateutil->advent-of-code-data->aocd) (1.16.0)\n",
      "Requirement already satisfied: certifi>=2017.4.17 in /home/andrew/.asdf/installs/python/miniconda3-4.7.12/envs/aoc/lib/python3.8/site-packages (from requests->advent-of-code-data->aocd) (2022.9.24)\n",
      "Requirement already satisfied: charset-normalizer<3,>=2 in /home/andrew/.asdf/installs/python/miniconda3-4.7.12/envs/aoc/lib/python3.8/site-packages (from requests->advent-of-code-data->aocd) (2.1.1)\n",
      "Requirement already satisfied: idna<4,>=2.5 in /home/andrew/.asdf/installs/python/miniconda3-4.7.12/envs/aoc/lib/python3.8/site-packages (from requests->advent-of-code-data->aocd) (3.4)\n",
      "Requirement already satisfied: urllib3<1.27,>=1.21.1 in /home/andrew/.asdf/installs/python/miniconda3-4.7.12/envs/aoc/lib/python3.8/site-packages (from requests->advent-of-code-data->aocd) (1.26.13)\n",
      "Requirement already satisfied: pytz-deprecation-shim in /home/andrew/.asdf/installs/python/miniconda3-4.7.12/envs/aoc/lib/python3.8/site-packages (from tzlocal->advent-of-code-data->aocd) (0.1.0.post0)\n",
      "Requirement already satisfied: backports.zoneinfo in /home/andrew/.asdf/installs/python/miniconda3-4.7.12/envs/aoc/lib/python3.8/site-packages (from tzlocal->advent-of-code-data->aocd) (0.2.1)\n",
      "Requirement already satisfied: tzdata in /home/andrew/.asdf/installs/python/miniconda3-4.7.12/envs/aoc/lib/python3.8/site-packages (from pytz-deprecation-shim->tzlocal->advent-of-code-data->aocd) (2022.7)\n",
      "Note: you may need to restart the kernel to use updated packages.\n"
     ]
    }
   ],
   "source": [
    "%pip install aocd"
   ]
  },
  {
   "cell_type": "code",
   "execution_count": 2,
   "metadata": {},
   "outputs": [],
   "source": [
    "import os\n",
    "os.environ[\"AOC_SESSION\"] = \"53616c7465645f5fd6bf6b05cb1c8b4a2f94610d9b847bdc64113d20ffa9777c2255ae94910cc1cbbea70fb735998fadf7b15fc42871b5d16edb94a0efafc758\""
   ]
  },
  {
   "cell_type": "code",
   "execution_count": 3,
   "metadata": {},
   "outputs": [],
   "source": [
    "from aocd.models import Puzzle"
   ]
  },
  {
   "cell_type": "markdown",
   "metadata": {},
   "source": [
    "## Dec 1"
   ]
  },
  {
   "cell_type": "markdown",
   "metadata": {},
   "source": [
    "#### Part A"
   ]
  },
  {
   "cell_type": "code",
   "execution_count": 16,
   "metadata": {},
   "outputs": [
    {
     "data": {
      "text/plain": [
       "'1000\\n2000\\n3000\\n\\n4000\\n\\n5000\\n6000\\n\\n7000\\n8000\\n9000\\n\\n10000'"
      ]
     },
     "execution_count": 16,
     "metadata": {},
     "output_type": "execute_result"
    }
   ],
   "source": [
    "puzzle = Puzzle(year=2022, day=1)\n",
    "input_data = puzzle.input_data\n",
    "example_data = puzzle.example_data\n",
    "example_data"
   ]
  },
  {
   "cell_type": "code",
   "execution_count": 17,
   "metadata": {},
   "outputs": [
    {
     "data": {
      "text/plain": [
       "[24000, 11000, 10000, 6000, 4000]"
      ]
     },
     "execution_count": 17,
     "metadata": {},
     "output_type": "execute_result"
    }
   ],
   "source": [
    "def process(d):\n",
    "    d = d.split(\"\\n\\n\")\n",
    "    d = [e.split(\"\\n\") for e in d]\n",
    "    d = [[int(i) for i in x] for x in d]\n",
    "    d = sorted([sum(i) for i in d], reverse=True)\n",
    "    return d\n",
    "\n",
    "process(example_data)"
   ]
  },
  {
   "cell_type": "code",
   "execution_count": 18,
   "metadata": {},
   "outputs": [
    {
     "name": "stdout",
     "output_type": "stream",
     "text": [
      "68442\n"
     ]
    }
   ],
   "source": [
    "answer_a = max(process(input_data))\n",
    "print(answer_a)\n",
    "puzzle.answer_a = answer_a"
   ]
  },
  {
   "cell_type": "markdown",
   "metadata": {},
   "source": [
    "#### Part B"
   ]
  },
  {
   "cell_type": "code",
   "execution_count": 19,
   "metadata": {},
   "outputs": [
    {
     "name": "stdout",
     "output_type": "stream",
     "text": [
      "204837\n"
     ]
    }
   ],
   "source": [
    "answer_b = sum(process(input_data)[:3])\n",
    "print(answer_b)\n",
    "puzzle.answer_b = answer_b"
   ]
  },
  {
   "cell_type": "markdown",
   "metadata": {},
   "source": [
    "## Day 2"
   ]
  },
  {
   "cell_type": "markdown",
   "metadata": {},
   "source": [
    "#### Part A"
   ]
  },
  {
   "cell_type": "code",
   "execution_count": 58,
   "metadata": {},
   "outputs": [
    {
     "data": {
      "text/plain": [
       "'A Y\\nB X\\nC Z'"
      ]
     },
     "execution_count": 58,
     "metadata": {},
     "output_type": "execute_result"
    }
   ],
   "source": [
    "puzzle = Puzzle(year=2022, day=2)\n",
    "input_data = puzzle.input_data\n",
    "example_data = puzzle.example_data\n",
    "example_data"
   ]
  },
  {
   "cell_type": "code",
   "execution_count": 97,
   "metadata": {},
   "outputs": [],
   "source": [
    "outcomes = {\n",
    "\"lose\": [\n",
    "    [\"B\", \"X\"],\n",
    "    [\"C\", \"Y\"],\n",
    "    [\"A\", \"Z\"]\n",
    "    ],\n",
    "\"draw\": [\n",
    "    [\"A\", \"X\"],\n",
    "    [\"B\", \"Y\"],\n",
    "    [\"C\", \"Z\"]\n",
    "    ],\n",
    "\"win\": [\n",
    "    [\"A\", \"Y\"],\n",
    "    [\"B\", \"Z\"],\n",
    "    [\"C\", \"X\"]\n",
    "    ]\n",
    "}\n",
    "\n",
    "points = {\n",
    "    \"X\": 1,\n",
    "    \"Y\": 2,\n",
    "    \"Z\": 3\n",
    "}\n"
   ]
  },
  {
   "cell_type": "code",
   "execution_count": 98,
   "metadata": {},
   "outputs": [
    {
     "data": {
      "text/plain": [
       "[8, 1, 6]"
      ]
     },
     "execution_count": 98,
     "metadata": {},
     "output_type": "execute_result"
    }
   ],
   "source": [
    "def process_a(d):\n",
    "    d = d.split(\"\\n\")\n",
    "    d = [list(x.replace(\" \", \"\")) for x in d]\n",
    "    \n",
    "    scores = []\n",
    "    for e in d:\n",
    "        \n",
    "        if e in outcomes[\"win\"]:\n",
    "            scores.append(points[e[1]] + 6)\n",
    "        elif e in outcomes[\"lose\"]:\n",
    "            scores.append(points[e[1]] + 0)\n",
    "        elif e in outcomes[\"draw\"]:\n",
    "            scores.append(points[e[1]] + 3)\n",
    "\n",
    "    return scores\n",
    "\n",
    "process_a(example_data)"
   ]
  },
  {
   "cell_type": "code",
   "execution_count": 99,
   "metadata": {},
   "outputs": [
    {
     "name": "stdout",
     "output_type": "stream",
     "text": [
      "12535\n"
     ]
    }
   ],
   "source": [
    "answer_a = sum(process_a(input_data))\n",
    "print(answer_a)\n",
    "puzzle.answer_a = answer_a"
   ]
  },
  {
   "cell_type": "markdown",
   "metadata": {},
   "source": [
    "#### Part B"
   ]
  },
  {
   "cell_type": "code",
   "execution_count": 104,
   "metadata": {},
   "outputs": [],
   "source": [
    "responses = {\n",
    "\"rock\": [\n",
    "    [\"A\", \"Y\"],\n",
    "    [\"B\", \"X\"],\n",
    "    [\"C\", \"Z\"]\n",
    "    ],\n",
    "\"paper\": [\n",
    "    [\"A\", \"Z\"],\n",
    "    [\"B\", \"Y\"],\n",
    "    [\"C\", \"X\"]\n",
    "    ],\n",
    "\"scissors\": [\n",
    "    [\"A\", \"X\"],\n",
    "    [\"B\", \"Z\"],\n",
    "    [\"C\", \"Y\"]\n",
    "    ]\n",
    "}\n",
    "\n",
    "points = {\n",
    "    \"X\": 0, # lose\n",
    "    \"Y\": 3, # win\n",
    "    \"Z\": 6 # draw\n",
    "}"
   ]
  },
  {
   "cell_type": "code",
   "execution_count": 106,
   "metadata": {},
   "outputs": [
    {
     "data": {
      "text/plain": [
       "[4, 1, 7]"
      ]
     },
     "execution_count": 106,
     "metadata": {},
     "output_type": "execute_result"
    }
   ],
   "source": [
    "def process_b(d):\n",
    "    d = d.split(\"\\n\")\n",
    "    d = [list(x.replace(\" \", \"\")) for x in d]\n",
    "    \n",
    "    scores = []\n",
    "    for e in d:\n",
    "        \n",
    "        if e in responses[\"rock\"]:\n",
    "            scores.append(1 + points[e[1]])\n",
    "        elif e in responses[\"paper\"]:\n",
    "            scores.append(2 + points[e[1]])\n",
    "        if e in responses[\"scissors\"]:\n",
    "            scores.append(3 + points[e[1]])\n",
    "\n",
    "    return scores\n",
    "\n",
    "process_b(example_data)"
   ]
  },
  {
   "cell_type": "code",
   "execution_count": 108,
   "metadata": {},
   "outputs": [
    {
     "name": "stdout",
     "output_type": "stream",
     "text": [
      "15457\n",
      "That's the right answer!  You are one gold star closer to collecting enough star fruit.You have completed Day 2! You can [Shareon\n",
      "  Twitter\n",
      "Mastodon] this victory or [Return to Your Advent Calendar].\n"
     ]
    }
   ],
   "source": [
    "answer_b = sum(process_b(input_data))\n",
    "print(answer_b)\n",
    "puzzle.answer_b = answer_b"
   ]
  },
  {
   "cell_type": "markdown",
   "metadata": {},
   "source": [
    "## Day 3"
   ]
  },
  {
   "cell_type": "markdown",
   "metadata": {},
   "source": [
    "#### Part A"
   ]
  },
  {
   "cell_type": "code",
   "execution_count": 4,
   "metadata": {},
   "outputs": [
    {
     "data": {
      "text/plain": [
       "'vJrwpWtwJgWrhcsFMMfFFhFp\\njqHRNqRjqzjGDLGLrsFMfFZSrLrFZsSL\\nPmmdzqPrVvPwwTWBwg\\nwMqvLMZHhHMvwLHjbvcjnnSBnvTQFn\\nttgJtRGJQctTZtZT\\nCrZsJsPPZsGzwwsLwLmpwMDw'"
      ]
     },
     "execution_count": 4,
     "metadata": {},
     "output_type": "execute_result"
    }
   ],
   "source": [
    "puzzle = Puzzle(year=2022, day=3)\n",
    "input_data = puzzle.input_data\n",
    "example_data = puzzle.example_data\n",
    "example_data"
   ]
  },
  {
   "cell_type": "code",
   "execution_count": 17,
   "metadata": {},
   "outputs": [],
   "source": [
    "import string\n",
    "\n",
    "letters = string.ascii_lowercase + string.ascii_uppercase\n",
    "priorities = dict(zip(letters, list(range(1, 53))))"
   ]
  },
  {
   "cell_type": "code",
   "execution_count": 44,
   "metadata": {},
   "outputs": [
    {
     "data": {
      "text/plain": [
       "[16, 38, 42, 22, 20, 19]"
      ]
     },
     "execution_count": 44,
     "metadata": {},
     "output_type": "execute_result"
    }
   ],
   "source": [
    "def process_a(d):\n",
    "    d = d.split(\"\\n\")\n",
    "    d = [[x[:len(x)//2], x[len(x)//2:]] for x in d]\n",
    "    d = [set(x[0]).intersection(x[1]) for x in d]\n",
    "\n",
    "    totals = []\n",
    "    for i in d:\n",
    "        sum = 0\n",
    "        for j in i:\n",
    "            sum += priorities[j]\n",
    "        totals.append(sum)\n",
    "\n",
    "    return totals\n",
    "\n",
    "process_a(example_data)"
   ]
  },
  {
   "cell_type": "code",
   "execution_count": 45,
   "metadata": {},
   "outputs": [
    {
     "name": "stdout",
     "output_type": "stream",
     "text": [
      "7872\n",
      "That's the right answer!  You are one gold star closer to collecting enough star fruit. [Continue to Part Two]\n"
     ]
    }
   ],
   "source": [
    "answer_a = sum(process_a(input_data))\n",
    "print(answer_a)\n",
    "puzzle.answer_a = answer_a"
   ]
  },
  {
   "cell_type": "markdown",
   "metadata": {},
   "source": [
    "#### Part B"
   ]
  },
  {
   "cell_type": "code",
   "execution_count": 70,
   "metadata": {},
   "outputs": [
    {
     "data": {
      "text/plain": [
       "[18, 52]"
      ]
     },
     "execution_count": 70,
     "metadata": {},
     "output_type": "execute_result"
    }
   ],
   "source": [
    "def process_b(d):\n",
    "    d = d.split(\"\\n\")\n",
    "\n",
    "    sums = []\n",
    "    for i in range(0, len(d), 3):\n",
    "        badge = set(d[i]).intersection(set(d[i+1])).intersection(set(d[i+2]))\n",
    "        badge = list(badge)[0]\n",
    "        sums.append(priorities[badge])\n",
    "    \n",
    "    return sums\n",
    "\n",
    "process_b(example_data)"
   ]
  },
  {
   "cell_type": "code",
   "execution_count": 71,
   "metadata": {},
   "outputs": [
    {
     "name": "stdout",
     "output_type": "stream",
     "text": [
      "2497\n",
      "That's the right answer!  You are one gold star closer to collecting enough star fruit.You have completed Day 3! You can [Shareon\n",
      "  Twitter\n",
      "Mastodon] this victory or [Return to Your Advent Calendar].\n"
     ]
    }
   ],
   "source": [
    "answer_b = sum(process_b(input_data))\n",
    "print(answer_b)\n",
    "puzzle.answer_b = answer_b"
   ]
  },
  {
   "cell_type": "markdown",
   "metadata": {},
   "source": [
    "## Day 4"
   ]
  },
  {
   "cell_type": "markdown",
   "metadata": {},
   "source": [
    "#### Part A"
   ]
  },
  {
   "cell_type": "code",
   "execution_count": 72,
   "metadata": {},
   "outputs": [
    {
     "data": {
      "text/plain": [
       "'2-4,6-8\\n2-3,4-5\\n5-7,7-9\\n2-8,3-7\\n6-6,4-6\\n2-6,4-8'"
      ]
     },
     "execution_count": 72,
     "metadata": {},
     "output_type": "execute_result"
    }
   ],
   "source": [
    "puzzle = Puzzle(year=2022, day=4)\n",
    "input_data = puzzle.input_data\n",
    "example_data = puzzle.example_data\n",
    "example_data"
   ]
  },
  {
   "cell_type": "code",
   "execution_count": 104,
   "metadata": {},
   "outputs": [
    {
     "data": {
      "text/plain": [
       "2"
      ]
     },
     "execution_count": 104,
     "metadata": {},
     "output_type": "execute_result"
    }
   ],
   "source": [
    "def process_a(d):\n",
    "    d = d.split(\"\\n\")\n",
    "    d = [p.split(\",\") for p in d]\n",
    "    d = [[r.split(\"-\") for r in p] for p in d]\n",
    "\n",
    "    subsets = 0\n",
    "    for p in d:\n",
    "        s1 = set(range(int(p[0][0]), int(p[0][1])+1))\n",
    "        s2 = set(range(int(p[1][0]), int(p[1][1])+1))\n",
    "\n",
    "        # print(s1)\n",
    "        # print(s2)\n",
    "        # print(s1.issubset(s2) or s2.issubset(s1))\n",
    "\n",
    "        if s1.issubset(s2) or s2.issubset(s1):\n",
    "            subsets += 1\n",
    "\n",
    "    return subsets\n",
    "\n",
    "process_a(example_data)"
   ]
  },
  {
   "cell_type": "code",
   "execution_count": 105,
   "metadata": {},
   "outputs": [
    {
     "name": "stdout",
     "output_type": "stream",
     "text": [
      "305\n",
      "That's the right answer!  You are one gold star closer to collecting enough star fruit. [Continue to Part Two]\n"
     ]
    }
   ],
   "source": [
    "answer_a = process_a(input_data)\n",
    "print(answer_a)\n",
    "puzzle.answer_a = answer_a"
   ]
  },
  {
   "cell_type": "markdown",
   "metadata": {},
   "source": [
    "#### Part B"
   ]
  },
  {
   "cell_type": "code",
   "execution_count": 108,
   "metadata": {},
   "outputs": [
    {
     "data": {
      "text/plain": [
       "4"
      ]
     },
     "execution_count": 108,
     "metadata": {},
     "output_type": "execute_result"
    }
   ],
   "source": [
    "def process_b(d):\n",
    "    d = d.split(\"\\n\")\n",
    "    d = [p.split(\",\") for p in d]\n",
    "    d = [[r.split(\"-\") for r in p] for p in d]\n",
    "\n",
    "    subsets = 0\n",
    "    for p in d:\n",
    "        s1 = set(range(int(p[0][0]), int(p[0][1])+1))\n",
    "        s2 = set(range(int(p[1][0]), int(p[1][1])+1))\n",
    "\n",
    "        # print(s1)\n",
    "        # print(s2)\n",
    "        # print(s1.issubset(s2) or s2.issubset(s1))\n",
    "\n",
    "        if not s1.isdisjoint(s2):\n",
    "            subsets += 1\n",
    "\n",
    "    return subsets\n",
    "\n",
    "process_b(example_data)"
   ]
  },
  {
   "cell_type": "code",
   "execution_count": 109,
   "metadata": {},
   "outputs": [
    {
     "name": "stdout",
     "output_type": "stream",
     "text": [
      "811\n",
      "That's the right answer!  You are one gold star closer to collecting enough star fruit.You have completed Day 4! You can [Shareon\n",
      "  Twitter\n",
      "Mastodon] this victory or [Return to Your Advent Calendar].\n"
     ]
    }
   ],
   "source": [
    "answer_b = process_b(input_data)\n",
    "print(answer_b)\n",
    "puzzle.answer_b = answer_b"
   ]
  },
  {
   "cell_type": "markdown",
   "metadata": {},
   "source": [
    "## Day 5"
   ]
  },
  {
   "cell_type": "markdown",
   "metadata": {},
   "source": [
    "#### Part A"
   ]
  },
  {
   "cell_type": "code",
   "execution_count": 48,
   "metadata": {},
   "outputs": [
    {
     "name": "stdout",
     "output_type": "stream",
     "text": [
      "    [D]    \n",
      "[N] [C]    \n",
      "[Z] [M] [P]\n",
      " 1   2   3 \n",
      "\n",
      "move 1 from 2 to 1\n",
      "move 3 from 1 to 3\n",
      "move 2 from 2 to 1\n",
      "move 1 from 1 to 2\n"
     ]
    }
   ],
   "source": [
    "puzzle = Puzzle(year=2022, day=5)\n",
    "input_data = puzzle.input_data\n",
    "example_data = puzzle.example_data\n",
    "print(example_data)"
   ]
  },
  {
   "cell_type": "code",
   "execution_count": 106,
   "metadata": {},
   "outputs": [
    {
     "name": "stdout",
     "output_type": "stream",
     "text": [
      "{1: ['Z', 'N'], 2: ['M', 'C', 'D'], 3: ['P']}\n",
      "[[1, 2, 1], [3, 1, 3], [2, 2, 1], [1, 1, 2]]\n"
     ]
    }
   ],
   "source": [
    "import re\n",
    "\n",
    "def process(d):\n",
    "    stacks = {}\n",
    "    num_stacks = int(d.split(\"\\n\\n\")[0][-2])\n",
    "    for stack in range(num_stacks):\n",
    "        stacks[stack+1] = []\n",
    "        crates = d.split(\"\\n\\n\")[0].split(\"\\n\")[0:-1]\n",
    "        for line in reversed(crates):\n",
    "            if not line[stack*4+1].isspace():\n",
    "                stacks[stack+1].append(line[stack*4+1])\n",
    "\n",
    "    steps = d.split(\"\\n\\n\")[1].split(\"\\n\")\n",
    "    steps = [re.split('move | from | to ',m)[1:] for m in steps]\n",
    "    steps = [[int(x) for x in m] for m in steps]\n",
    "\n",
    "    return stacks, steps\n",
    "\n",
    "stacks, steps = process(example_data)\n",
    "print(stacks)\n",
    "print(steps)"
   ]
  },
  {
   "cell_type": "code",
   "execution_count": 109,
   "metadata": {},
   "outputs": [
    {
     "name": "stdout",
     "output_type": "stream",
     "text": [
      "CMZ\n"
     ]
    }
   ],
   "source": [
    "def process_a(stacks, steps):\n",
    "    for step in steps:\n",
    "        for i in range(1, step[0]+1):\n",
    "            crate = stacks[step[1]].pop()\n",
    "            stacks[step[2]].append(crate)\n",
    "\n",
    "    top_crates = ''\n",
    "    for stack in stacks.values():\n",
    "        top_crates += stack[-1]\n",
    "\n",
    "    return top_crates\n",
    "\n",
    "top_crates = process_a(stacks, steps)\n",
    "print(top_crates)"
   ]
  },
  {
   "cell_type": "code",
   "execution_count": 112,
   "metadata": {},
   "outputs": [
    {
     "name": "stdout",
     "output_type": "stream",
     "text": [
      "TQRFCBSJJ\n"
     ]
    }
   ],
   "source": [
    "stacks, steps = process(input_data)\n",
    "answer_a = process_a(stacks, steps)\n",
    "print(answer_a)\n",
    "puzzle.answer_a = answer_a"
   ]
  },
  {
   "cell_type": "markdown",
   "metadata": {},
   "source": [
    "#### Part B"
   ]
  },
  {
   "cell_type": "code",
   "execution_count": 125,
   "metadata": {},
   "outputs": [
    {
     "data": {
      "text/plain": [
       "[1, 2, 3]"
      ]
     },
     "execution_count": 125,
     "metadata": {},
     "output_type": "execute_result"
    }
   ],
   "source": [
    "a = [1, 2]\n",
    "c = [3]\n",
    "a+c"
   ]
  },
  {
   "cell_type": "code",
   "execution_count": 131,
   "metadata": {},
   "outputs": [
    {
     "name": "stdout",
     "output_type": "stream",
     "text": [
      "['apple']\n"
     ]
    }
   ],
   "source": [
    "thislist = [\"apple\", \"banana\", \"cherry\"]\n",
    "del thislist[-2:]\n",
    "print(thislist)"
   ]
  },
  {
   "cell_type": "code",
   "execution_count": 140,
   "metadata": {},
   "outputs": [
    {
     "name": "stdout",
     "output_type": "stream",
     "text": [
      "MCD\n"
     ]
    }
   ],
   "source": [
    "def process_b(stacks, steps):\n",
    "    for step in steps:\n",
    "        crates = stacks[step[1]][-step[0]:]\n",
    "        del stacks[step[1]][-step[0]:]\n",
    "        stacks[step[2]] += crates\n",
    "\n",
    "    top_crates = ''\n",
    "    for stack in stacks.values():\n",
    "        top_crates += stack[-1]\n",
    "\n",
    "    return top_crates\n",
    "\n",
    "stacks, steps = process(example_data)\n",
    "top_crates = process_b(stacks, steps)\n",
    "print(top_crates)"
   ]
  },
  {
   "cell_type": "code",
   "execution_count": 141,
   "metadata": {},
   "outputs": [
    {
     "name": "stdout",
     "output_type": "stream",
     "text": [
      "RMHFJNVFP\n",
      "That's the right answer!  You are one gold star closer to collecting enough star fruit.You have completed Day 5! You can [Shareon\n",
      "  Twitter\n",
      "Mastodon] this victory or [Return to Your Advent Calendar].\n"
     ]
    }
   ],
   "source": [
    "stacks, steps = process(input_data)\n",
    "answer_b = process_b(stacks, steps)\n",
    "print(answer_b)\n",
    "puzzle.answer_b = answer_b"
   ]
  }
 ],
 "metadata": {
  "kernelspec": {
   "display_name": "Python 3.8.0 ('aoc')",
   "language": "python",
   "name": "python3"
  },
  "language_info": {
   "codemirror_mode": {
    "name": "ipython",
    "version": 3
   },
   "file_extension": ".py",
   "mimetype": "text/x-python",
   "name": "python",
   "nbconvert_exporter": "python",
   "pygments_lexer": "ipython3",
   "version": "3.8.0"
  },
  "orig_nbformat": 4,
  "vscode": {
   "interpreter": {
    "hash": "67535745396c5cbdfe847cbf1874b54a7dc54d84abafdefd663b716e1769928d"
   }
  }
 },
 "nbformat": 4,
 "nbformat_minor": 2
}
